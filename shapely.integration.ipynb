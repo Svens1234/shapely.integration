{
 "cells": [
  {
   "cell_type": "code",
   "execution_count": 1,
   "id": "f3f5f67c",
   "metadata": {},
   "outputs": [],
   "source": [
    "from shapely.wkt import dumps, loads"
   ]
  },
  {
   "cell_type": "code",
   "execution_count": 2,
   "id": "6509a38a",
   "metadata": {},
   "outputs": [
    {
     "data": {
      "text/plain": [
       "'POINT (0.0000000000000000 0.0000000000000000)'"
      ]
     },
     "execution_count": 2,
     "metadata": {},
     "output_type": "execute_result"
    }
   ],
   "source": [
    "dumps(loads('POINT (0 0)'))"
   ]
  },
  {
   "cell_type": "code",
   "execution_count": null,
   "id": "2acf364c",
   "metadata": {},
   "outputs": [],
   "source": []
  }
 ],
 "metadata": {
  "kernelspec": {
   "display_name": "Python 3 (ipykernel)",
   "language": "python",
   "name": "python3"
  },
  "language_info": {
   "codemirror_mode": {
    "name": "ipython",
    "version": 3
   },
   "file_extension": ".py",
   "mimetype": "text/x-python",
   "name": "python",
   "nbconvert_exporter": "python",
   "pygments_lexer": "ipython3",
   "version": "3.10.5"
  }
 },
 "nbformat": 4,
 "nbformat_minor": 5
}
